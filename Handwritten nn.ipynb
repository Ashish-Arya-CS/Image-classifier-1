{
 "cells": [
  {
   "cell_type": "code",
   "execution_count": 1,
   "metadata": {},
   "outputs": [],
   "source": [
    "%matplotlib inline\n",
    "%config InlineBackend.figure_format = 'retina'\n",
    "import numpy as np\n",
    "import torch\n",
    "import helper\n",
    "import matplotlib.pyplot as plt"
   ]
  },
  {
   "cell_type": "code",
   "execution_count": 2,
   "metadata": {},
   "outputs": [],
   "source": [
    "from torchvision import datasets,transforms\n",
    "transform=transforms.Compose([transforms.ToTensor(),transforms.Normalize([0.5],[0.5])\n",
    "                             ])\n",
    "trainset=datasets.MNIST('MNIST_data/',download=True,train=True,transform=transform)\n",
    "trainloader=torch.utils.data.DataLoader(trainset,batch_size=64,shuffle=True)"
   ]
  },
  {
   "cell_type": "code",
   "execution_count": 3,
   "metadata": {},
   "outputs": [
    {
     "name": "stdout",
     "output_type": "stream",
     "text": [
      "<class 'torch.Tensor'>\n",
      "torch.Size([64, 1, 28, 28])\n",
      "torch.Size([64])\n"
     ]
    }
   ],
   "source": [
    "dataiter=iter(trainloader)\n",
    "images , labels = dataiter.next()\n",
    "print(type(images))\n",
    "print(images.shape)\n",
    "print(labels.shape)"
   ]
  },
  {
   "cell_type": "code",
   "execution_count": 4,
   "metadata": {},
   "outputs": [
    {
     "data": {
      "text/plain": [
       "<matplotlib.image.AxesImage at 0x208ddde0198>"
      ]
     },
     "execution_count": 4,
     "metadata": {},
     "output_type": "execute_result"
    },
    {
     "data": {
      "image/png": "[encoded data removed]",
      "text/plain": [
       "<Figure size 432x288 with 1 Axes>"
      ]
     },
     "metadata": {
      "image/png": {
       "height": 250,
       "width": 253
      },
      "needs_background": "light"
     },
     "output_type": "display_data"
    }
   ],
   "source": [
    "plt.imshow(images[54].numpy().squeeze(),cmap='Greys_r')\n"
   ]
  },
  {
   "cell_type": "code",
   "execution_count": 5,
   "metadata": {},
   "outputs": [
    {
     "name": "stdout",
     "output_type": "stream",
     "text": [
      "tensor([[ 2.3970e+00,  5.1462e+00, -5.3225e-02, -2.8916e+00,  5.7193e+00,\n",
      "          1.4730e+01,  8.0227e+00,  1.8246e+00,  2.3789e+00, -1.0541e+01],\n",
      "        [ 2.2233e+00,  6.5116e+00,  8.5412e+00,  1.1785e-01,  1.3481e+01,\n",
      "          1.6982e+01,  1.1837e+01,  6.5026e+00,  3.9364e+00, -4.7494e+00],\n",
      "        [-1.3291e+00,  1.6419e+00,  1.1225e+01, -7.4747e+00,  7.9389e+00,\n",
      "          1.2801e+01,  9.9646e+00,  2.0969e+00,  4.5457e+00,  1.4088e+01],\n",
      "        [ 2.9566e+00,  1.3587e+00,  1.2547e+01, -8.0597e+00,  4.4722e+00,\n",
      "          1.3449e+01,  2.8852e+00,  8.4177e+00,  3.6025e+00,  1.4999e+00],\n",
      "        [ 2.5265e+00,  1.2208e+01,  1.2945e+01, -7.4829e+00,  9.7001e-01,\n",
      "          1.8309e+01,  6.1689e+00,  1.9507e+01,  4.5642e+00, -8.7414e+00],\n",
      "        [ 5.6946e+00,  1.1544e+01,  4.4752e+00, -1.1122e+01, -1.0204e+00,\n",
      "          9.7521e+00,  1.1352e+01,  1.2076e+00,  1.4893e+01,  6.9315e-01],\n",
      "        [ 8.1308e+00,  2.4390e+00,  4.0847e+00, -3.8022e+00, -2.5494e+00,\n",
      "          7.2629e+00,  7.1314e+00,  8.1908e+00,  9.4612e+00,  7.3368e+00],\n",
      "        [ 5.9629e+00, -4.2746e+00,  3.1691e+00, -2.1246e+00, -5.3006e+00,\n",
      "         -1.5470e+00,  6.5910e+00,  5.5384e+00,  2.7815e+00, -1.4878e+00],\n",
      "        [ 5.3984e-01,  1.8792e+01,  1.4652e+01, -1.0030e+01,  7.6122e+00,\n",
      "          1.3447e+01,  1.9549e+00,  1.2609e-01,  8.5364e+00, -4.7778e+00],\n",
      "        [ 4.1781e+00,  6.8655e+00,  1.0904e+01, -1.0392e+01,  4.6622e+00,\n",
      "          4.6084e+00,  1.0854e+01,  1.3155e+01,  6.6623e+00, -7.2657e+00],\n",
      "        [ 9.9899e+00,  4.7351e+00,  7.6653e+00, -7.8095e+00,  5.3892e+00,\n",
      "          1.4680e+01,  8.3297e+00,  1.9849e+00, -2.6972e+00,  4.7581e+00],\n",
      "        [ 7.2061e+00,  5.7660e+00,  7.0700e+00, -3.5743e-01,  1.2333e+01,\n",
      "          1.0323e+01,  9.7244e+00,  6.5325e+00,  4.3994e+00,  1.9302e+00],\n",
      "        [ 6.3771e-01,  6.1965e+00,  1.1512e+01, -4.1478e+00,  2.8834e+00,\n",
      "          8.8852e+00,  4.2370e+00,  7.0261e+00, -8.0476e+00,  5.8128e+00],\n",
      "        [-2.9818e+00,  2.5212e+00,  1.1225e+01, -6.2783e+00,  4.2301e+00,\n",
      "          1.6072e+01,  8.8531e+00,  8.5813e+00, -3.5248e+00,  4.1125e+00],\n",
      "        [ 1.4500e+00,  2.7163e+00,  9.0985e+00, -7.9656e+00,  9.9182e+00,\n",
      "          4.4142e+00,  6.5139e+00,  1.0479e+01,  7.7180e+00, -7.5258e+00],\n",
      "        [ 5.7534e-01, -3.1826e-01,  1.2481e+01, -1.0643e+01,  7.1343e+00,\n",
      "          1.8042e+01,  6.1326e+00,  1.0310e+01,  6.5704e-01, -4.1162e+00],\n",
      "        [ 4.6163e+00,  6.5667e+00,  9.9036e+00, -1.0894e+01,  1.3753e+00,\n",
      "          6.8802e+00, -3.2449e+00,  2.8472e+00,  6.9752e+00,  5.2192e+00],\n",
      "        [-4.6583e+00,  1.1581e+00,  1.0282e+01, -1.2866e+01,  2.1492e+00,\n",
      "          6.6893e+00, -6.8829e-01,  3.4012e+00,  2.2996e+00,  1.0891e+00],\n",
      "        [-4.9169e+00, -1.8717e+00,  1.1329e+01,  1.6998e+00,  9.0636e+00,\n",
      "          3.4674e+00, -3.1907e+00,  6.0832e-01,  1.0889e+00, -4.8102e+00],\n",
      "        [-5.6100e+00,  1.4474e+01, -6.2336e-01,  1.3845e+00,  5.7172e+00,\n",
      "          7.4227e+00,  6.2448e+00,  5.4855e+00,  9.8643e+00, -9.7560e+00],\n",
      "        [ 1.0751e+01, -4.5680e+00,  8.5784e+00, -4.3503e+00,  6.3235e+00,\n",
      "          8.5985e+00,  1.0225e+01,  1.6969e+00,  7.6155e+00, -3.4262e+00],\n",
      "        [ 1.5328e+00,  5.0265e+00,  4.9118e+00, -7.5740e+00,  1.6023e+01,\n",
      "          1.2315e+01,  1.8031e+00,  1.9330e+01,  4.1623e+00, -1.4879e+01],\n",
      "        [-4.2915e+00,  6.9070e+00,  1.6965e+00,  1.8415e+00,  3.4685e+00,\n",
      "          1.5476e+01,  1.5063e+01,  2.7555e-01,  5.7119e+00,  6.4885e+00],\n",
      "        [ 3.7549e+00,  3.6258e+00,  1.4245e+01, -7.6068e+00, -8.2554e-01,\n",
      "          1.1195e+01,  1.0572e+01,  8.8302e+00, -3.6114e+00, -3.9927e+00],\n",
      "        [ 3.7372e+00,  3.6370e+00,  1.5248e+01, -6.7346e+00,  6.9957e+00,\n",
      "          9.6964e+00,  6.5678e+00,  8.2816e+00,  1.8629e+01, -9.0784e+00],\n",
      "        [ 7.6474e+00, -4.8714e+00,  7.4810e+00, -1.1574e+01,  4.3621e-01,\n",
      "          1.0955e+01,  7.5488e+00, -3.4176e+00,  4.6650e+00,  5.9219e+00],\n",
      "        [ 5.6224e+00,  6.8243e+00,  1.2810e+01, -6.7592e+00,  3.4958e+00,\n",
      "          1.1163e+01,  7.5993e+00,  9.1701e+00,  4.3590e+00, -2.9109e+00],\n",
      "        [ 4.3654e+00, -1.0638e+01,  8.8394e+00, -6.9172e+00, -3.6096e-01,\n",
      "         -2.2673e+00,  1.0081e+01, -6.6718e+00,  1.0903e+00,  2.8436e+00],\n",
      "        [-2.4863e+00,  5.5416e+00, -2.3721e+00,  9.1527e+00,  1.1499e+01,\n",
      "          1.0475e+01,  9.6318e+00,  7.2120e-01,  6.6995e+00, -3.9755e+00],\n",
      "        [ 9.3005e-02,  1.1170e+01,  1.5674e+01, -1.1417e+01,  8.5417e+00,\n",
      "          7.7495e+00,  7.1600e+00,  2.6095e+00,  1.0566e+01, -9.6419e+00],\n",
      "        [ 2.5186e+00,  4.0329e+00,  2.6351e+00, -1.5068e+00,  8.1533e+00,\n",
      "          1.5596e+01,  7.6273e+00, -8.9338e-01,  6.3166e+00,  2.7593e+00],\n",
      "        [-6.1888e+00,  4.1936e+00,  2.4450e+00, -7.9621e+00,  7.4353e+00,\n",
      "          1.2182e+01,  3.4253e+00,  1.0619e+01,  5.8203e+00, -7.0720e+00],\n",
      "        [-5.4563e+00,  2.0079e+00,  1.2698e+01,  2.7347e+00, -6.1011e+00,\n",
      "          3.6326e+00,  6.5530e+00,  4.9990e-01,  6.8022e+00, -8.5269e-01],\n",
      "        [-2.3361e+00,  6.6886e+00,  6.0033e+00, -4.1515e+00,  9.0026e-01,\n",
      "          5.9744e+00, -9.7503e-01,  2.0322e+00, -9.8648e-01, -1.3846e+01],\n",
      "        [ 2.3945e+00,  1.7853e+00,  1.6138e+01, -5.3608e+00,  1.0515e+01,\n",
      "          1.3587e+01,  9.5276e+00,  6.8964e+00,  1.1680e+01, -6.6531e+00],\n",
      "        [-3.4081e+00,  1.7791e+01,  5.3109e+00, -4.5417e+00,  8.9964e+00,\n",
      "          1.2302e+01,  5.7842e+00, -3.5826e-01,  1.0225e+01, -4.9879e+00],\n",
      "        [ 6.8178e+00,  8.5379e+00,  1.0722e+01, -2.6615e+00,  2.9813e+00,\n",
      "          1.3333e+01, -1.8066e+00,  4.1633e+00, -2.3302e+00, -8.6806e+00],\n",
      "        [-1.3807e-03,  1.9036e+01,  6.8335e+00,  8.8311e+00,  1.3117e+01,\n",
      "          1.3702e+01,  1.1186e+01,  5.8505e+00,  1.2039e+01, -4.7385e-01],\n",
      "        [ 4.0203e+00,  7.3882e+00,  1.2374e+01, -1.5926e+01,  1.0482e+01,\n",
      "          4.6835e+00,  2.9800e+00,  5.6201e+00,  3.2123e+00, -8.3099e+00],\n",
      "        [ 4.0387e+00,  1.3669e+01,  3.2209e+00, -2.6232e+00,  6.0040e+00,\n",
      "          6.6769e+00,  7.6231e+00,  7.1166e-01,  4.0406e+00, -4.7214e+00],\n",
      "        [ 3.9932e+00,  4.1945e+00,  3.1902e+00, -7.4024e-01,  9.7573e+00,\n",
      "          1.4041e+01,  1.8006e+01,  1.2855e+01,  7.4570e+00, -9.3153e+00],\n",
      "        [ 8.5316e+00,  6.3026e+00,  3.3640e+00, -5.8102e+00,  6.3948e-01,\n",
      "          8.7749e+00,  2.0438e+01,  5.9094e+00,  4.0946e+00, -7.5972e+00],\n",
      "        [ 2.6649e+00,  5.4918e+00, -2.1815e+00, -1.9760e+00,  5.5010e+00,\n",
      "          1.4194e+01,  5.9047e+00,  3.3703e+00,  2.2863e+00, -6.3156e+00],\n",
      "        [-3.4491e+00,  5.6194e+00,  4.9111e+00,  4.6249e+00,  1.7226e+00,\n",
      "          1.3365e+01, -3.0418e-01,  6.7723e+00,  1.3084e+01, -2.3400e+00],\n",
      "        [ 5.8201e-01,  4.5292e+00,  1.4646e+01, -2.0320e+00,  6.4368e+00,\n",
      "          1.2496e+01,  7.2429e+00,  1.0243e+01,  7.6165e+00, -1.4409e+01],\n",
      "        [-3.0654e+00,  8.2091e+00,  4.8080e+00, -2.3145e+00,  4.8235e+00,\n",
      "          1.3621e+01,  1.3590e+01,  3.2581e+00,  8.2091e+00, -3.6824e+00],\n",
      "        [ 1.7962e+00,  8.9281e+00,  1.5618e+00,  3.5299e+00,  2.1680e+01,\n",
      "          1.4953e+01,  2.0348e+00,  8.0185e+00, -3.7205e+00, -6.3002e+00],\n",
      "        [ 1.2792e+00,  1.0761e+01,  1.1749e+01, -2.6202e+00,  2.5544e+00,\n",
      "          6.5403e+00,  5.8506e+00,  1.9424e+00,  5.2425e+00,  1.1067e+00],\n",
      "        [ 8.1137e+00,  3.6767e+00,  9.5603e+00,  2.6793e-01,  1.0789e+01,\n",
      "          9.6766e+00,  5.3926e+00, -6.3183e-01,  1.3405e+01, -1.1270e+01],\n",
      "        [ 4.1924e+00,  8.3553e+00,  8.0354e+00, -3.2256e-01, -7.2942e-01,\n",
      "          1.4111e+01, -5.5222e+00,  5.7397e-01, -2.8135e+00, -1.4732e+00],\n",
      "        [-5.9604e+00, -9.5465e-01,  9.2562e+00, -5.4056e+00,  1.4372e+01,\n",
      "          1.2675e+01, -2.1912e-01, -4.7634e-01,  1.5911e+01,  3.5910e+00],\n",
      "        [ 5.5188e+00,  6.0222e+00,  1.0353e+01, -8.3815e+00, -2.2739e+00,\n",
      "          1.4136e+01,  8.7092e+00,  1.2969e+01,  3.6006e+00, -5.5167e+00],\n",
      "        [-2.6142e+00,  1.4767e+01,  1.2754e+00, -3.6846e+00,  8.7106e-01,\n",
      "          5.6458e+00,  9.4463e+00,  8.5402e+00, -5.3691e+00, -3.9803e+00],\n",
      "        [ 7.2263e+00,  3.6858e+00,  1.1422e+00,  6.3247e+00, -1.1092e+01,\n",
      "          7.7066e+00,  4.9680e+00,  3.6429e+00,  2.8293e+00,  2.8827e+00],\n",
      "        [ 6.3340e+00,  2.6665e+00,  9.0220e+00,  6.1778e+00,  4.5040e+00,\n",
      "          1.1931e+01,  6.2214e+00, -5.4510e-02,  1.4386e+01,  5.5172e+00],\n",
      "        [-1.8595e+00,  4.1860e+00,  1.1944e+01, -1.0421e+01,  1.5407e+00,\n",
      "          5.4887e+00,  2.3634e+00,  2.2521e+00,  8.2185e+00, -7.4007e+00],\n",
      "        [ 1.2480e+01,  6.8567e+00,  1.4828e+01, -7.3373e+00,  2.7936e+00,\n",
      "          9.4542e+00,  6.9602e+00,  4.0854e+00,  9.1373e+00, -4.0715e+00],\n",
      "        [ 8.0383e-01,  9.1664e+00,  2.3053e-01, -4.9412e+00,  1.2172e+01,\n",
      "          8.9002e+00,  5.4545e+00,  4.8886e+00,  1.3268e+01, -3.3310e+00],\n",
      "        [-5.3759e-01,  2.8335e+00,  1.7342e+01, -9.3747e-01,  1.2621e+01,\n",
      "          1.3293e+01,  8.5137e+00,  6.4481e+00,  6.2290e+00, -2.9475e+00],\n",
      "        [-9.5060e-01,  5.4478e+00,  1.4882e+01, -1.5040e+00,  1.0426e+00,\n",
      "          1.6297e+01,  1.0670e+01,  1.2403e+01,  1.1684e+01, -4.3803e+00],\n",
      "        [-4.4651e+00,  9.8181e-01,  5.5373e+00,  3.3118e+00,  7.5841e+00,\n",
      "          9.2822e+00,  5.9939e+00,  7.0352e+00, -1.0996e+00, -6.2635e+00],\n",
      "        [-1.2394e+00,  9.7415e+00,  1.6732e+00, -1.6689e+00, -6.3963e+00,\n",
      "          4.4676e+00,  4.3061e+00,  2.2122e+00,  9.0160e+00, -7.4185e+00],\n",
      "        [-2.4729e+00,  7.0176e+00, -5.6648e+00,  1.5737e+00,  5.7663e+00,\n",
      "          9.3188e+00,  8.3488e+00,  3.2968e+00, -9.9864e-01, -1.3308e+01],\n",
      "        [-1.0533e+01,  7.5266e+00, -6.2588e+00,  1.4896e+00,  5.8564e+00,\n"
     ]
    },
    {
     "name": "stdout",
     "output_type": "stream",
     "text": [
      "          1.2406e+01,  2.2769e+00,  7.2237e+00,  3.6835e+00, -1.1687e+01]])\n"
     ]
    }
   ],
   "source": [
    "def activation(x):\n",
    "    return (1/(1+torch.exp(-x)))\n",
    "\n",
    "inputs=images.view(images.shape[0],-1)\n",
    "W1=torch.randn(784,256)\n",
    "b1=torch.randn(256)\n",
    "W2=torch.randn(256,10)\n",
    "b2=torch.randn(10)\n",
    "h=activation(torch.mm(inputs,W1)+b1)\n",
    "output=torch.mm(h,W2)+b2\n",
    "print(output)"
   ]
  },
  {
   "cell_type": "code",
   "execution_count": 6,
   "metadata": {},
   "outputs": [
    {
     "name": "stdout",
     "output_type": "stream",
     "text": [
      "torch.Size([64, 10])\n",
      "tensor([1.0000, 1.0000, 1.0000, 1.0000, 1.0000, 1.0000, 1.0000, 1.0000, 1.0000,\n",
      "        1.0000, 1.0000, 1.0000, 1.0000, 1.0000, 1.0000, 1.0000, 1.0000, 1.0000,\n",
      "        1.0000, 1.0000, 1.0000, 1.0000, 1.0000, 1.0000, 1.0000, 1.0000, 1.0000,\n",
      "        1.0000, 1.0000, 1.0000, 1.0000, 1.0000, 1.0000, 1.0000, 1.0000, 1.0000,\n",
      "        1.0000, 1.0000, 1.0000, 1.0000, 1.0000, 1.0000, 1.0000, 1.0000, 1.0000,\n",
      "        1.0000, 1.0000, 1.0000, 1.0000, 1.0000, 1.0000, 1.0000, 1.0000, 1.0000,\n",
      "        1.0000, 1.0000, 1.0000, 1.0000, 1.0000, 1.0000, 1.0000, 1.0000, 1.0000,\n",
      "        1.0000])\n"
     ]
    }
   ],
   "source": [
    "def softmax(x):\n",
    "    return torch.exp(x)/torch.sum(torch.exp(x),dim=1).view(-1,1)\n",
    "\n",
    "probabilities=softmax(output)\n",
    "print(probabilities.shape)\n",
    "print(probabilities.sum(dim=1))"
   ]
  },
  {
   "cell_type": "code",
   "execution_count": 7,
   "metadata": {},
   "outputs": [],
   "source": [
    "from torch import nn"
   ]
  },
  {
   "cell_type": "code",
   "execution_count": 8,
   "metadata": {},
   "outputs": [],
   "source": [
    "class Networks(nn.Module):\n",
    "    def __init__(self):\n",
    "        super().__init__()\n",
    "        self.hidden=nn.Linear(784,256)\n",
    "        self.out=nn.Linear(256,10)\n",
    "        self.sigmoid=nn.Sigmoid()\n",
    "        self.softmax=nn.Softmax(dim=1)\n",
    "    def forward(self,x):\n",
    "        x=self.hidden(x)\n",
    "        x=self.sigmoid(x)\n",
    "        x=self.out(x)\n",
    "        x=self.softmax(x)\n",
    "        return x"
   ]
  },
  {
   "cell_type": "code",
   "execution_count": 14,
   "metadata": {},
   "outputs": [
    {
     "data": {
      "text/plain": [
       "Networks(\n",
       "  (hidden): Linear(in_features=784, out_features=256, bias=True)\n",
       "  (out): Linear(in_features=256, out_features=10, bias=True)\n",
       "  (sigmoid): Sigmoid()\n",
       "  (softmax): Softmax(dim=1)\n",
       ")"
      ]
     },
     "execution_count": 14,
     "metadata": {},
     "output_type": "execute_result"
    }
   ],
   "source": [
    "model=Networks()\n",
    "model"
   ]
  },
  {
   "cell_type": "code",
   "execution_count": 15,
   "metadata": {},
   "outputs": [],
   "source": [
    "class Network_relu(nn.Module):\n",
    "    def __init__(self):\n",
    "        super().__init__()\n",
    "        self.hidden1(784,128)\n",
    "        self.hidden2(128,64)\n",
    "        self.out(64,10)\n",
    "        self.relu=nn.ReLU()\n",
    "        self.softmax=nn.Softmax(dim=1)\n",
    "        \n",
    "    def forward(self,x):\n",
    "        x=self.hidden1(x)\n",
    "        x=self.relu(x)\n",
    "        x=self.hidden2(x)\n",
    "        x=self.relu(x)\n",
    "        x=self.out(x)\n",
    "        x=self.softmax(x)\n",
    "        return x\n",
    "    "
   ]
  },
  {
   "cell_type": "markdown",
   "metadata": {},
   "source": [
    "Now I will be using all the above tools which I have learnt and will be applying them in the neural network."
   ]
  },
  {
   "cell_type": "code",
   "execution_count": 16,
   "metadata": {},
   "outputs": [],
   "source": [
    "import torch\n",
    "from torch import nn\n",
    "import torch.nn.functional as F\n",
    "from torchvision import datasets , transforms\n",
    "from torch import optim"
   ]
  },
  {
   "cell_type": "code",
   "execution_count": 17,
   "metadata": {},
   "outputs": [
    {
     "name": "stdout",
     "output_type": "stream",
     "text": [
      "tensor(2.3089, grad_fn=<NllLossBackward>)\n"
     ]
    }
   ],
   "source": [
    "model=nn.Sequential(nn.Linear(784,128),\n",
    "                    nn.ReLU(),\n",
    "                    nn.Linear(128,64),\n",
    "                    nn.ReLU(),\n",
    "                    nn.Linear(64,10),\n",
    "                    nn.LogSoftmax())\n",
    "criterion = nn.NLLLoss()\n",
    "optimizer=optim.SGD(model.parameters(),lr=0.003)\n",
    "logits=model(inputs)\n",
    "loss=criterion(logits,labels)\n",
    "print(loss)\n"
   ]
  },
  {
   "cell_type": "code",
   "execution_count": 18,
   "metadata": {},
   "outputs": [
    {
     "name": "stdout",
     "output_type": "stream",
     "text": [
      "Training loss: 1.955075466937856\n",
      "Training loss: 0.9075916322436668\n",
      "Training loss: 0.5360518402255166\n",
      "Training loss: 0.4311122102206196\n",
      "Training loss: 0.3838224908563374\n"
     ]
    }
   ],
   "source": [
    "epochs=5\n",
    "for i in range(epochs):\n",
    "    running_loss=0\n",
    "    for images,labels in trainloader:\n",
    "        images=images.view(images.shape[0],-1)\n",
    "        optimizer.zero_grad() #cleaning_optimizer\n",
    "        output=model.forward(images)\n",
    "        loss=criterion(output,labels)\n",
    "        loss.backward()\n",
    "        optimizer.step()\n",
    "        running_loss += loss.item()\n",
    "    print(f\"Training loss: {running_loss/len(trainloader)}\")"
   ]
  },
  {
   "cell_type": "code",
   "execution_count": 24,
   "metadata": {},
   "outputs": [
    {
     "data": {
      "image/png": "[encoded data removed]",
      "text/plain": [
       "<Figure size 432x648 with 2 Axes>"
      ]
     },
     "metadata": {
      "image/png": {
       "height": 226,
       "width": 423
      },
      "needs_background": "light"
     },
     "output_type": "display_data"
    }
   ],
   "source": [
    "import helper\n",
    "image,labels=next(iter(trainloader))\n",
    "img=image[0].view(1,784)\n",
    "with torch.no_grad():\n",
    "    logits=model.forward(img)\n",
    "ps=F.softmax(logits,dim=1)\n",
    "helper.view_classify(img.view(1,28,28),ps)"
   ]
  },
  {
   "cell_type": "code",
   "execution_count": null,
   "metadata": {},
   "outputs": [],
   "source": []
  }
 ],
 "metadata": {
  "kernelspec": {
   "display_name": "Python 3",
   "language": "python",
   "name": "python3"
  },
  "language_info": {
   "codemirror_mode": {
    "name": "ipython",
    "version": 3
   },
   "file_extension": ".py",
   "mimetype": "text/x-python",
   "name": "python",
   "nbconvert_exporter": "python",
   "pygments_lexer": "ipython3",
   "version": "3.7.3"
  }
 },
 "nbformat": 4,
 "nbformat_minor": 2
}
